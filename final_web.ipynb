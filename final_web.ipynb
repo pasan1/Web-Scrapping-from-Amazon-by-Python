{
 "cells": [
  {
   "cell_type": "code",
   "execution_count": 10,
   "metadata": {
    "collapsed": true,
    "ExecuteTime": {
     "end_time": "2023-07-12T18:01:14.480241700Z",
     "start_time": "2023-07-12T18:01:10.126319200Z"
    }
   },
   "outputs": [
    {
     "name": "stdout",
     "output_type": "stream",
     "text": [
      "Requirement already satisfied: bs4 in d:\\projects\\python\\py\\webscrapet1\\venv\\lib\\site-packages (0.0.1)\n",
      "Requirement already satisfied: beautifulsoup4 in d:\\projects\\python\\py\\webscrapet1\\venv\\lib\\site-packages (from bs4) (4.12.2)\n",
      "Requirement already satisfied: soupsieve>1.2 in d:\\projects\\python\\py\\webscrapet1\\venv\\lib\\site-packages (from beautifulsoup4->bs4) (2.4.1)\n"
     ]
    },
    {
     "name": "stderr",
     "output_type": "stream",
     "text": [
      "\n",
      "[notice] A new release of pip available: 22.3.1 -> 23.1.2\n",
      "[notice] To update, run: python.exe -m pip install --upgrade pip\n"
     ]
    },
    {
     "name": "stdout",
     "output_type": "stream",
     "text": [
      "Requirement already satisfied: requests in d:\\projects\\python\\py\\webscrapet1\\venv\\lib\\site-packages (2.31.0)\n",
      "Requirement already satisfied: idna<4,>=2.5 in d:\\projects\\python\\py\\webscrapet1\\venv\\lib\\site-packages (from requests) (3.4)\n",
      "Requirement already satisfied: urllib3<3,>=1.21.1 in d:\\projects\\python\\py\\webscrapet1\\venv\\lib\\site-packages (from requests) (2.0.3)\n",
      "Requirement already satisfied: certifi>=2017.4.17 in d:\\projects\\python\\py\\webscrapet1\\venv\\lib\\site-packages (from requests) (2023.5.7)\n",
      "Requirement already satisfied: charset-normalizer<4,>=2 in d:\\projects\\python\\py\\webscrapet1\\venv\\lib\\site-packages (from requests) (3.2.0)\n"
     ]
    },
    {
     "name": "stderr",
     "output_type": "stream",
     "text": [
      "\n",
      "[notice] A new release of pip available: 22.3.1 -> 23.1.2\n",
      "[notice] To update, run: python.exe -m pip install --upgrade pip\n"
     ]
    },
    {
     "name": "stdout",
     "output_type": "stream",
     "text": [
      "Requirement already satisfied: pandas in d:\\projects\\python\\py\\webscrapet1\\venv\\lib\\site-packages (2.0.3)\n",
      "Requirement already satisfied: python-dateutil>=2.8.2 in d:\\projects\\python\\py\\webscrapet1\\venv\\lib\\site-packages (from pandas) (2.8.2)\n",
      "Requirement already satisfied: tzdata>=2022.1 in d:\\projects\\python\\py\\webscrapet1\\venv\\lib\\site-packages (from pandas) (2023.3)\n",
      "Requirement already satisfied: pytz>=2020.1 in d:\\projects\\python\\py\\webscrapet1\\venv\\lib\\site-packages (from pandas) (2023.3)\n",
      "Requirement already satisfied: numpy>=1.21.0 in d:\\projects\\python\\py\\webscrapet1\\venv\\lib\\site-packages (from pandas) (1.25.1)\n",
      "Requirement already satisfied: six>=1.5 in d:\\projects\\python\\py\\webscrapet1\\venv\\lib\\site-packages (from python-dateutil>=2.8.2->pandas) (1.16.0)\n"
     ]
    },
    {
     "name": "stderr",
     "output_type": "stream",
     "text": [
      "\n",
      "[notice] A new release of pip available: 22.3.1 -> 23.1.2\n",
      "[notice] To update, run: python.exe -m pip install --upgrade pip\n"
     ]
    },
    {
     "name": "stdout",
     "output_type": "stream",
     "text": [
      "Requirement already satisfied: numpy in d:\\projects\\python\\py\\webscrapet1\\venv\\lib\\site-packages (1.25.1)\n"
     ]
    },
    {
     "name": "stderr",
     "output_type": "stream",
     "text": [
      "\n",
      "[notice] A new release of pip available: 22.3.1 -> 23.1.2\n",
      "[notice] To update, run: python.exe -m pip install --upgrade pip\n"
     ]
    }
   ],
   "source": [
    "!pip install bs4\n",
    "!pip install requests\n",
    "!pip install pandas\n",
    "!pip install numpy"
   ]
  },
  {
   "cell_type": "code",
   "execution_count": 11,
   "outputs": [],
   "source": [
    "from bs4 import BeautifulSoup\n",
    "import requests\n",
    "import pandas as pd\n",
    "import numpy as np"
   ],
   "metadata": {
    "collapsed": false,
    "ExecuteTime": {
     "end_time": "2023-07-12T18:01:14.523840600Z",
     "start_time": "2023-07-12T18:01:14.481238100Z"
    }
   }
  },
  {
   "cell_type": "code",
   "execution_count": 12,
   "outputs": [],
   "source": [
    "# Function to extract Product Title\n",
    "def get_title(soup):\n",
    "\n",
    "    try:\n",
    "        # Outer Tag Object\n",
    "        title = soup.find(\"span\", attrs={\"id\":'productTitle'})\n",
    "\n",
    "        # Inner NavigatableString Object\n",
    "        title_value = title.text\n",
    "\n",
    "        # Title as a string value\n",
    "        title_string = title_value.strip()\n",
    "\n",
    "    except AttributeError:\n",
    "        title_string = \"\"\n",
    "\n",
    "    return title_string"
   ],
   "metadata": {
    "collapsed": false,
    "ExecuteTime": {
     "end_time": "2023-07-12T18:01:14.524837900Z",
     "start_time": "2023-07-12T18:01:14.496931500Z"
    }
   }
  },
  {
   "cell_type": "code",
   "execution_count": 13,
   "outputs": [],
   "source": [
    "# Function to extract Product Price\n",
    "def get_price(soup):\n",
    "\n",
    "    try:\n",
    "        price = soup.find(\"span\", attrs={'id':'priceblock_ourprice'}).string.strip()\n",
    "\n",
    "    except AttributeError:\n",
    "\n",
    "        try:\n",
    "            # If there is some deal price\n",
    "            price = soup.find(\"span\", attrs={'id':'priceblock_dealprice'}).string.strip()\n",
    "\n",
    "        except:\n",
    "            price = \"\"\n",
    "\n",
    "    return price"
   ],
   "metadata": {
    "collapsed": false,
    "ExecuteTime": {
     "end_time": "2023-07-12T18:01:14.534802200Z",
     "start_time": "2023-07-12T18:01:14.513875200Z"
    }
   }
  },
  {
   "cell_type": "code",
   "execution_count": 14,
   "outputs": [],
   "source": [
    "# Function to extract Product Rating\n",
    "def get_rating(soup):\n",
    "\n",
    "    try:\n",
    "        rating = soup.find(\"i\", attrs={'class':'a-icon a-icon-star a-star-4-5'}).string.strip()\n",
    "\n",
    "    except AttributeError:\n",
    "        try:\n",
    "            rating = soup.find(\"span\", attrs={'class':'a-icon-alt'}).string.strip()\n",
    "        except:\n",
    "            rating = \"\"\n",
    "\n",
    "    return rating"
   ],
   "metadata": {
    "collapsed": false,
    "ExecuteTime": {
     "end_time": "2023-07-12T18:01:14.541792400Z",
     "start_time": "2023-07-12T18:01:14.531814200Z"
    }
   }
  },
  {
   "cell_type": "code",
   "execution_count": 15,
   "outputs": [],
   "source": [
    "# Function to extract Number of User Reviews\n",
    "def get_review_count(soup):\n",
    "    try:\n",
    "        review_count = soup.find(\"span\", attrs={'id':'acrCustomerReviewText'}).string.strip()\n",
    "\n",
    "    except AttributeError:\n",
    "        review_count = \"\"\n",
    "\n",
    "    return review_count"
   ],
   "metadata": {
    "collapsed": false,
    "ExecuteTime": {
     "end_time": "2023-07-12T18:01:14.650946900Z",
     "start_time": "2023-07-12T18:01:14.544772Z"
    }
   }
  },
  {
   "cell_type": "code",
   "execution_count": 16,
   "outputs": [],
   "source": [
    "# Function to extract Availability Status\n",
    "def get_availability(soup):\n",
    "    try:\n",
    "        available = soup.find(\"div\", attrs={'id':'availability'})\n",
    "        available = available.find(\"span\").string.strip()\n",
    "\n",
    "    except AttributeError:\n",
    "        available = \"Not Available\"\n",
    "\n",
    "    return available"
   ],
   "metadata": {
    "collapsed": false,
    "ExecuteTime": {
     "end_time": "2023-07-12T18:01:14.651944800Z",
     "start_time": "2023-07-12T18:01:14.563579500Z"
    }
   }
  },
  {
   "cell_type": "code",
   "execution_count": 17,
   "outputs": [],
   "source": [
    "if __name__ == '__main__':\n",
    "\n",
    "    # add your user agent\n",
    "    HEADERS = ({'User-Agent':'', 'Accept-Language': 'en-US, en;q=0.5'})\n",
    "\n",
    "    # The webpage URL\n",
    "    URL = \"https://www.amazon.com/s?k=monitor&sprefix=moni%2Caps%2C345&ref=nb_sb_ss_ts-doa-p_2_4\"\n",
    "\n",
    "    # HTTP Request\n",
    "    webpage = requests.get(URL, headers=HEADERS)\n",
    "\n",
    "    # Soup Object containing all data\n",
    "    soup = BeautifulSoup(webpage.content, \"html.parser\")\n",
    "\n",
    "    # Fetch links as List of Tag Objects\n",
    "    links = soup.find_all(\"a\", attrs={'class':'a-link-normal s-no-outline'})\n",
    "\n",
    "    # Store the links\n",
    "    links_list = []\n",
    "\n",
    "    # Loop for extracting links from Tag Objects\n",
    "    for link in links:\n",
    "            links_list.append(link.get('href'))\n",
    "\n",
    "    d = {\"title\":[], \"price\":[], \"rating\":[], \"reviews\":[],\"availability\":[]}\n",
    "\n",
    "    # Loop for extracting product details from each link\n",
    "    for link in links_list:\n",
    "        new_webpage = requests.get(\"https://www.amazon.com\" + link, headers=HEADERS)\n",
    "\n",
    "        new_soup = BeautifulSoup(new_webpage.content, \"html.parser\")\n",
    "\n",
    "        # Function calls to display all necessary product information\n",
    "        d['title'].append(get_title(new_soup))\n",
    "        d['price'].append(get_price(new_soup))\n",
    "        d['rating'].append(get_rating(new_soup))\n",
    "        d['reviews'].append(get_review_count(new_soup))\n",
    "        d['availability'].append(get_availability(new_soup))\n",
    "\n",
    "\n",
    "    amazon_df = pd.DataFrame.from_dict(d)\n",
    "    amazon_df['title'].replace('', np.nan, inplace=True)\n",
    "    amazon_df = amazon_df.dropna(subset=['title'])\n",
    "    amazon_df.to_csv(\"amazon_data.csv\", header=True, index=False)"
   ],
   "metadata": {
    "collapsed": false,
    "ExecuteTime": {
     "end_time": "2023-07-12T18:03:37.477021Z",
     "start_time": "2023-07-12T18:01:14.578525500Z"
    }
   }
  },
  {
   "cell_type": "code",
   "execution_count": 18,
   "outputs": [
    {
     "data": {
      "text/plain": "                                                title price  \\\n0   SAMSUNG FT45 Series 22-Inch FHD 1080p Computer...         \n1   Samsung Business S24R650FDN SR650 Series 24 in...         \n2   Acer KC242Y Hbi 23.8\" Full HD (1920 x 1080) Ze...         \n3   Acer 21.5 Inch Full HD (1920 x 1080) IPS Ultra...         \n4   Sceptre 20\" 1600 x 900 75Hz LED Monitor 2x HDM...         \n5   Packard Bell 21 Inch Monitor FHD 1920 x 1080 C...         \n6   KOORUI 24 Inch Computer Monitor -FHD 1080P Gam...         \n7   KOORUI 24\" Gaming Monitor 165Hz, 1080p, 1ms, I...         \n8   Norcent 24 Inch Computer Frameless Monitor, 75...         \n9   BenQ GW2780 Computer Monitor 27\" FHD 1920x1080...         \n10  Dell P2419H 24 Inch LED-Backlit, Anti-Glare, 3...         \n11  BenQ GL2480 Gaming Monitor 24\" FHD 1920x1080p ...         \n12  ASUS VA27EHE 27” Eye Care Monitor Full HD (192...         \n13  ASUS 23.8”1080P Monitor(VA24DQSB)-Full HD,IPS,...         \n14  ASUS 27” 1080P Monitor (VA27DQ) - Full HD, IPS...         \n15  SAMSUNG FT45 Series 24-Inch FHD 1080p Computer...         \n16  ASUS ProArt Display 32” 1440P Monitor (PA328CG...         \n17  Sceptre 24-inch Professional Thin 1080p LED Mo...         \n18  HP 24mh FHD Monitor - Computer Monitor with 23...         \n19  Sceptre 27-inch Curved Gaming Monitor up to 24...         \n20  Sceptre 24-inch Professional Thin 1080p LED Mo...         \n21  KOORUI 24 Inch Computer Monitor Full HD 1920 x...         \n22  Acer KB272 EBI 27\" IPS Full HD (1920 x 1080) Z...         \n23  SAMSUNG T350 Series 22-Inch FHD 1080p Computer...         \n24  PHILIPS Computer Monitors 22 inch Class Thin F...         \n25  SAMSUNG Odyssey G4 Series 25-Inch FHD Gaming M...         \n26  KOORUI 24 Inch Computer Monitor -FHD 1080P Gam...         \n27  SAMSUNG UJ59 Series 32-Inch 4K UHD (3840x2160)...         \n28  SAMSUNG 23.5” CF396 Curved Computer Monitor, A...         \n29  KOORUI 24-Inch Curved Computer Monitor- Full H...         \n30  Sceptre 22 inch 75Hz 1080P LED Monitor 99% sRG...         \n31  SANSUI Monitor 27 inch FHD 1080p 75Hz USB Type...         \n32  AOC C27G2Z 27\" Curved Frameless Ultra-Fast Gam...         \n33  Nitro by Acer 27\" Full HD 1920 x 1080 1500R Cu...         \n34  SAMSUNG 32\" Odyssey G55A QHD 165Hz 1ms FreeSyn...         \n35  CRUA 27\" Curved Monitor, Full HD(1920x1080P)VA...         \n36  KOORUI 24 Inch Computer Monitor -FHD 1080P Gam...         \n\n                rating         reviews  \\\n0   4.6 out of 5 stars   1,863 ratings   \n1   4.6 out of 5 stars   1,963 ratings   \n2   4.5 out of 5 stars   3,654 ratings   \n3   4.6 out of 5 stars  41,161 ratings   \n4   4.5 out of 5 stars  27,030 ratings   \n5   4.3 out of 5 stars      90 ratings   \n6   4.5 out of 5 stars     399 ratings   \n7   4.3 out of 5 stars   3,745 ratings   \n8   4.6 out of 5 stars     111 ratings   \n9   4.7 out of 5 stars  17,213 ratings   \n10  4.7 out of 5 stars   7,153 ratings   \n11  4.6 out of 5 stars   6,660 ratings   \n12  4.6 out of 5 stars   3,246 ratings   \n13  4.6 out of 5 stars   2,703 ratings   \n14  4.7 out of 5 stars   2,094 ratings   \n15  4.6 out of 5 stars   1,863 ratings   \n16  4.6 out of 5 stars   1,558 ratings   \n17  4.6 out of 5 stars  27,144 ratings   \n18  4.7 out of 5 stars  24,153 ratings   \n19  4.4 out of 5 stars     175 ratings   \n20  4.6 out of 5 stars  27,144 ratings   \n21  4.3 out of 5 stars   3,745 ratings   \n22  4.6 out of 5 stars   1,819 ratings   \n23  4.5 out of 5 stars   4,052 ratings   \n24  4.6 out of 5 stars     952 ratings   \n25  4.6 out of 5 stars   1,939 ratings   \n26  4.4 out of 5 stars   3,890 ratings   \n27  4.3 out of 5 stars   4,074 ratings   \n28  4.6 out of 5 stars  24,268 ratings   \n29  4.3 out of 5 stars   3,284 ratings   \n30  4.5 out of 5 stars   8,319 ratings   \n31  4.5 out of 5 stars   1,105 ratings   \n32  4.7 out of 5 stars  25,648 ratings   \n33  4.6 out of 5 stars   2,629 ratings   \n34  4.5 out of 5 stars   8,295 ratings   \n35  4.4 out of 5 stars   3,133 ratings   \n36  4.3 out of 5 stars   3,284 ratings   \n\n                               availability  \n0                                  In Stock  \n1                                  In Stock  \n2                                  In Stock  \n3                                  In Stock  \n4                                  In Stock  \n5                                            \n6                                  In Stock  \n7                                  In Stock  \n8                                  In Stock  \n9                                  In Stock  \n10                                           \n11                                           \n12                                 In Stock  \n13                                 In Stock  \n14                                 In Stock  \n15                                 In Stock  \n16  Only 20 left in stock (more on the way)  \n17                                 In Stock  \n18                                 In Stock  \n19                                 In Stock  \n20                                 In Stock  \n21                                 In Stock  \n22                                 In Stock  \n23                                 In Stock  \n24                                           \n25                                 In Stock  \n26                                 In Stock  \n27                                 In Stock  \n28                                 In Stock  \n29                                 In Stock  \n30                                 In Stock  \n31                                 In Stock  \n32                                 In Stock  \n33                                 In Stock  \n34                                 In Stock  \n35                                 In Stock  \n36                                 In Stock  ",
      "text/html": "<div>\n<style scoped>\n    .dataframe tbody tr th:only-of-type {\n        vertical-align: middle;\n    }\n\n    .dataframe tbody tr th {\n        vertical-align: top;\n    }\n\n    .dataframe thead th {\n        text-align: right;\n    }\n</style>\n<table border=\"1\" class=\"dataframe\">\n  <thead>\n    <tr style=\"text-align: right;\">\n      <th></th>\n      <th>title</th>\n      <th>price</th>\n      <th>rating</th>\n      <th>reviews</th>\n      <th>availability</th>\n    </tr>\n  </thead>\n  <tbody>\n    <tr>\n      <th>0</th>\n      <td>SAMSUNG FT45 Series 22-Inch FHD 1080p Computer...</td>\n      <td></td>\n      <td>4.6 out of 5 stars</td>\n      <td>1,863 ratings</td>\n      <td>In Stock</td>\n    </tr>\n    <tr>\n      <th>1</th>\n      <td>Samsung Business S24R650FDN SR650 Series 24 in...</td>\n      <td></td>\n      <td>4.6 out of 5 stars</td>\n      <td>1,963 ratings</td>\n      <td>In Stock</td>\n    </tr>\n    <tr>\n      <th>2</th>\n      <td>Acer KC242Y Hbi 23.8\" Full HD (1920 x 1080) Ze...</td>\n      <td></td>\n      <td>4.5 out of 5 stars</td>\n      <td>3,654 ratings</td>\n      <td>In Stock</td>\n    </tr>\n    <tr>\n      <th>3</th>\n      <td>Acer 21.5 Inch Full HD (1920 x 1080) IPS Ultra...</td>\n      <td></td>\n      <td>4.6 out of 5 stars</td>\n      <td>41,161 ratings</td>\n      <td>In Stock</td>\n    </tr>\n    <tr>\n      <th>4</th>\n      <td>Sceptre 20\" 1600 x 900 75Hz LED Monitor 2x HDM...</td>\n      <td></td>\n      <td>4.5 out of 5 stars</td>\n      <td>27,030 ratings</td>\n      <td>In Stock</td>\n    </tr>\n    <tr>\n      <th>5</th>\n      <td>Packard Bell 21 Inch Monitor FHD 1920 x 1080 C...</td>\n      <td></td>\n      <td>4.3 out of 5 stars</td>\n      <td>90 ratings</td>\n      <td></td>\n    </tr>\n    <tr>\n      <th>6</th>\n      <td>KOORUI 24 Inch Computer Monitor -FHD 1080P Gam...</td>\n      <td></td>\n      <td>4.5 out of 5 stars</td>\n      <td>399 ratings</td>\n      <td>In Stock</td>\n    </tr>\n    <tr>\n      <th>7</th>\n      <td>KOORUI 24\" Gaming Monitor 165Hz, 1080p, 1ms, I...</td>\n      <td></td>\n      <td>4.3 out of 5 stars</td>\n      <td>3,745 ratings</td>\n      <td>In Stock</td>\n    </tr>\n    <tr>\n      <th>8</th>\n      <td>Norcent 24 Inch Computer Frameless Monitor, 75...</td>\n      <td></td>\n      <td>4.6 out of 5 stars</td>\n      <td>111 ratings</td>\n      <td>In Stock</td>\n    </tr>\n    <tr>\n      <th>9</th>\n      <td>BenQ GW2780 Computer Monitor 27\" FHD 1920x1080...</td>\n      <td></td>\n      <td>4.7 out of 5 stars</td>\n      <td>17,213 ratings</td>\n      <td>In Stock</td>\n    </tr>\n    <tr>\n      <th>10</th>\n      <td>Dell P2419H 24 Inch LED-Backlit, Anti-Glare, 3...</td>\n      <td></td>\n      <td>4.7 out of 5 stars</td>\n      <td>7,153 ratings</td>\n      <td></td>\n    </tr>\n    <tr>\n      <th>11</th>\n      <td>BenQ GL2480 Gaming Monitor 24\" FHD 1920x1080p ...</td>\n      <td></td>\n      <td>4.6 out of 5 stars</td>\n      <td>6,660 ratings</td>\n      <td></td>\n    </tr>\n    <tr>\n      <th>12</th>\n      <td>ASUS VA27EHE 27” Eye Care Monitor Full HD (192...</td>\n      <td></td>\n      <td>4.6 out of 5 stars</td>\n      <td>3,246 ratings</td>\n      <td>In Stock</td>\n    </tr>\n    <tr>\n      <th>13</th>\n      <td>ASUS 23.8”1080P Monitor(VA24DQSB)-Full HD,IPS,...</td>\n      <td></td>\n      <td>4.6 out of 5 stars</td>\n      <td>2,703 ratings</td>\n      <td>In Stock</td>\n    </tr>\n    <tr>\n      <th>14</th>\n      <td>ASUS 27” 1080P Monitor (VA27DQ) - Full HD, IPS...</td>\n      <td></td>\n      <td>4.7 out of 5 stars</td>\n      <td>2,094 ratings</td>\n      <td>In Stock</td>\n    </tr>\n    <tr>\n      <th>15</th>\n      <td>SAMSUNG FT45 Series 24-Inch FHD 1080p Computer...</td>\n      <td></td>\n      <td>4.6 out of 5 stars</td>\n      <td>1,863 ratings</td>\n      <td>In Stock</td>\n    </tr>\n    <tr>\n      <th>16</th>\n      <td>ASUS ProArt Display 32” 1440P Monitor (PA328CG...</td>\n      <td></td>\n      <td>4.6 out of 5 stars</td>\n      <td>1,558 ratings</td>\n      <td>Only 20 left in stock (more on the way)</td>\n    </tr>\n    <tr>\n      <th>17</th>\n      <td>Sceptre 24-inch Professional Thin 1080p LED Mo...</td>\n      <td></td>\n      <td>4.6 out of 5 stars</td>\n      <td>27,144 ratings</td>\n      <td>In Stock</td>\n    </tr>\n    <tr>\n      <th>18</th>\n      <td>HP 24mh FHD Monitor - Computer Monitor with 23...</td>\n      <td></td>\n      <td>4.7 out of 5 stars</td>\n      <td>24,153 ratings</td>\n      <td>In Stock</td>\n    </tr>\n    <tr>\n      <th>19</th>\n      <td>Sceptre 27-inch Curved Gaming Monitor up to 24...</td>\n      <td></td>\n      <td>4.4 out of 5 stars</td>\n      <td>175 ratings</td>\n      <td>In Stock</td>\n    </tr>\n    <tr>\n      <th>20</th>\n      <td>Sceptre 24-inch Professional Thin 1080p LED Mo...</td>\n      <td></td>\n      <td>4.6 out of 5 stars</td>\n      <td>27,144 ratings</td>\n      <td>In Stock</td>\n    </tr>\n    <tr>\n      <th>21</th>\n      <td>KOORUI 24 Inch Computer Monitor Full HD 1920 x...</td>\n      <td></td>\n      <td>4.3 out of 5 stars</td>\n      <td>3,745 ratings</td>\n      <td>In Stock</td>\n    </tr>\n    <tr>\n      <th>22</th>\n      <td>Acer KB272 EBI 27\" IPS Full HD (1920 x 1080) Z...</td>\n      <td></td>\n      <td>4.6 out of 5 stars</td>\n      <td>1,819 ratings</td>\n      <td>In Stock</td>\n    </tr>\n    <tr>\n      <th>23</th>\n      <td>SAMSUNG T350 Series 22-Inch FHD 1080p Computer...</td>\n      <td></td>\n      <td>4.5 out of 5 stars</td>\n      <td>4,052 ratings</td>\n      <td>In Stock</td>\n    </tr>\n    <tr>\n      <th>24</th>\n      <td>PHILIPS Computer Monitors 22 inch Class Thin F...</td>\n      <td></td>\n      <td>4.6 out of 5 stars</td>\n      <td>952 ratings</td>\n      <td></td>\n    </tr>\n    <tr>\n      <th>25</th>\n      <td>SAMSUNG Odyssey G4 Series 25-Inch FHD Gaming M...</td>\n      <td></td>\n      <td>4.6 out of 5 stars</td>\n      <td>1,939 ratings</td>\n      <td>In Stock</td>\n    </tr>\n    <tr>\n      <th>26</th>\n      <td>KOORUI 24 Inch Computer Monitor -FHD 1080P Gam...</td>\n      <td></td>\n      <td>4.4 out of 5 stars</td>\n      <td>3,890 ratings</td>\n      <td>In Stock</td>\n    </tr>\n    <tr>\n      <th>27</th>\n      <td>SAMSUNG UJ59 Series 32-Inch 4K UHD (3840x2160)...</td>\n      <td></td>\n      <td>4.3 out of 5 stars</td>\n      <td>4,074 ratings</td>\n      <td>In Stock</td>\n    </tr>\n    <tr>\n      <th>28</th>\n      <td>SAMSUNG 23.5” CF396 Curved Computer Monitor, A...</td>\n      <td></td>\n      <td>4.6 out of 5 stars</td>\n      <td>24,268 ratings</td>\n      <td>In Stock</td>\n    </tr>\n    <tr>\n      <th>29</th>\n      <td>KOORUI 24-Inch Curved Computer Monitor- Full H...</td>\n      <td></td>\n      <td>4.3 out of 5 stars</td>\n      <td>3,284 ratings</td>\n      <td>In Stock</td>\n    </tr>\n    <tr>\n      <th>30</th>\n      <td>Sceptre 22 inch 75Hz 1080P LED Monitor 99% sRG...</td>\n      <td></td>\n      <td>4.5 out of 5 stars</td>\n      <td>8,319 ratings</td>\n      <td>In Stock</td>\n    </tr>\n    <tr>\n      <th>31</th>\n      <td>SANSUI Monitor 27 inch FHD 1080p 75Hz USB Type...</td>\n      <td></td>\n      <td>4.5 out of 5 stars</td>\n      <td>1,105 ratings</td>\n      <td>In Stock</td>\n    </tr>\n    <tr>\n      <th>32</th>\n      <td>AOC C27G2Z 27\" Curved Frameless Ultra-Fast Gam...</td>\n      <td></td>\n      <td>4.7 out of 5 stars</td>\n      <td>25,648 ratings</td>\n      <td>In Stock</td>\n    </tr>\n    <tr>\n      <th>33</th>\n      <td>Nitro by Acer 27\" Full HD 1920 x 1080 1500R Cu...</td>\n      <td></td>\n      <td>4.6 out of 5 stars</td>\n      <td>2,629 ratings</td>\n      <td>In Stock</td>\n    </tr>\n    <tr>\n      <th>34</th>\n      <td>SAMSUNG 32\" Odyssey G55A QHD 165Hz 1ms FreeSyn...</td>\n      <td></td>\n      <td>4.5 out of 5 stars</td>\n      <td>8,295 ratings</td>\n      <td>In Stock</td>\n    </tr>\n    <tr>\n      <th>35</th>\n      <td>CRUA 27\" Curved Monitor, Full HD(1920x1080P)VA...</td>\n      <td></td>\n      <td>4.4 out of 5 stars</td>\n      <td>3,133 ratings</td>\n      <td>In Stock</td>\n    </tr>\n    <tr>\n      <th>36</th>\n      <td>KOORUI 24 Inch Computer Monitor -FHD 1080P Gam...</td>\n      <td></td>\n      <td>4.3 out of 5 stars</td>\n      <td>3,284 ratings</td>\n      <td>In Stock</td>\n    </tr>\n  </tbody>\n</table>\n</div>"
     },
     "execution_count": 18,
     "metadata": {},
     "output_type": "execute_result"
    }
   ],
   "source": [
    "amazon_df"
   ],
   "metadata": {
    "collapsed": false,
    "ExecuteTime": {
     "end_time": "2023-07-12T18:05:53.218034500Z",
     "start_time": "2023-07-12T18:05:53.166890400Z"
    }
   }
  },
  {
   "cell_type": "code",
   "execution_count": null,
   "outputs": [],
   "source": [],
   "metadata": {
    "collapsed": false
   }
  }
 ],
 "metadata": {
  "kernelspec": {
   "display_name": "Python 3",
   "language": "python",
   "name": "python3"
  },
  "language_info": {
   "codemirror_mode": {
    "name": "ipython",
    "version": 2
   },
   "file_extension": ".py",
   "mimetype": "text/x-python",
   "name": "python",
   "nbconvert_exporter": "python",
   "pygments_lexer": "ipython2",
   "version": "2.7.6"
  }
 },
 "nbformat": 4,
 "nbformat_minor": 0
}
